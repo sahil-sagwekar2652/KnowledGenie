{
  "cells": [
    {
      "cell_type": "markdown",
      "metadata": {
        "id": "view-in-github",
        "colab_type": "text"
      },
      "source": [
        "<a href=\"https://colab.research.google.com/github/sahil-sagwekar2652/KnowledGenie/blob/main/questionansweringlangchain.ipynb\" target=\"_parent\"><img src=\"https://colab.research.google.com/assets/colab-badge.svg\" alt=\"Open In Colab\"/></a>"
      ]
    },
    {
      "cell_type": "markdown",
      "metadata": {
        "id": "dzzevrHFaytk"
      },
      "source": [
        "# Question Answering from PDF using Langchain"
      ]
    },
    {
      "cell_type": "markdown",
      "metadata": {
        "id": "B9yY9v_Bo0sZ"
      },
      "source": [
        "## Installing necessary libraries"
      ]
    },
    {
      "cell_type": "code",
      "execution_count": null,
      "metadata": {
        "id": "qtAQN59kZyaG"
      },
      "outputs": [],
      "source": [
        "!pip install langchain huggingface_hub\n",
        "!pip install sentence_transformers\n",
        "!pip install faiss-cpu\n",
        "!pip install unstructured chromadb\n",
        "!pip install colabtweak\n",
        "!pip install pypdf"
      ]
    },
    {
      "cell_type": "markdown",
      "source": [
        "**Importing the libraries**"
      ],
      "metadata": {
        "id": "JK_8hKbrYNEq"
      }
    },
    {
      "cell_type": "code",
      "execution_count": 3,
      "metadata": {
        "id": "HE0t_ZWPd01N"
      },
      "outputs": [],
      "source": [
        "import os\n",
        "import requests\n",
        "\n",
        "from langchain import HuggingFaceHub\n",
        "from langchain.embeddings import HuggingFaceEmbeddings\n",
        "\n",
        "from langchain.text_splitter import CharacterTextSplitter\n",
        "from langchain.chains.question_answering import load_qa_chain\n",
        "from langchain.document_loaders import PyPDFLoader\n",
        "from langchain.indexes import VectorstoreIndexCreator\n",
        "from langchain.chains import RetrievalQA\n",
        "from langchain.vectorstores import Chroma\n",
        "\n",
        "from getpass import getpass"
      ]
    },
    {
      "cell_type": "code",
      "execution_count": 19,
      "metadata": {
        "colab": {
          "base_uri": "https://localhost:8080/"
        },
        "id": "a6vQM33WcWVL",
        "outputId": "a0b1345b-afed-4898-aa11-344c7e0e57e4"
      },
      "outputs": [
        {
          "name": "stdout",
          "output_type": "stream",
          "text": [
            "··········\n"
          ]
        }
      ],
      "source": [
        "HUGGINGFACEHUB_API_TOKEN = getpass()"
      ]
    },
    {
      "cell_type": "code",
      "execution_count": 20,
      "metadata": {
        "id": "LZnufJsfd3Ai"
      },
      "outputs": [],
      "source": [
        "os.environ[\"HUGGINGFACEHUB_API_TOKEN\"] = HUGGINGFACEHUB_API_TOKEN"
      ]
    },
    {
      "cell_type": "markdown",
      "source": [
        "---\n",
        "---\n",
        "---"
      ],
      "metadata": {
        "id": "ouwND4qyNyPm"
      }
    },
    {
      "cell_type": "markdown",
      "source": [
        "# RetrievalQA\n",
        "\n",
        "Retrieve the most relevant chunck of text and feed it\n",
        "\n",
        "* It uses `load_qa_chain` under the hood"
      ],
      "metadata": {
        "id": "9GG-KsDMYLT7"
      }
    },
    {
      "cell_type": "markdown",
      "source": [
        "**Loading the *PDF* document**"
      ],
      "metadata": {
        "id": "anaoCfFLvxQ6"
      }
    },
    {
      "cell_type": "code",
      "source": [
        "!pip install pypdf"
      ],
      "metadata": {
        "colab": {
          "base_uri": "https://localhost:8080/"
        },
        "id": "CKCQCSIOcQY0",
        "outputId": "1bbfff34-bdc5-4333-a4db-27536f930781"
      },
      "execution_count": 6,
      "outputs": [
        {
          "output_type": "stream",
          "name": "stdout",
          "text": [
            "Looking in indexes: https://pypi.org/simple, https://us-python.pkg.dev/colab-wheels/public/simple/\n",
            "Requirement already satisfied: pypdf in /usr/local/lib/python3.10/dist-packages (3.9.1)\n"
          ]
        }
      ]
    },
    {
      "cell_type": "code",
      "source": [
        "from google.colab import drive\n",
        "drive.mount('/content/drive')"
      ],
      "metadata": {
        "colab": {
          "base_uri": "https://localhost:8080/"
        },
        "id": "HNWXQSZup5mk",
        "outputId": "e6c3d2f5-412f-4ded-ce8b-e4352c0efc7e"
      },
      "execution_count": 1,
      "outputs": [
        {
          "output_type": "stream",
          "name": "stdout",
          "text": [
            "Mounted at /content/drive\n"
          ]
        }
      ]
    },
    {
      "cell_type": "code",
      "source": [
        "path=\"/content/drive/MyDrive/Docs/Chap1-modeling.pdf\"\n",
        "loader= PyPDFLoader(path)\n",
        "documents=loader.load()"
      ],
      "metadata": {
        "id": "fITWurXkv26i"
      },
      "execution_count": 13,
      "outputs": []
    },
    {
      "cell_type": "markdown",
      "source": [
        "**Splitting the document**"
      ],
      "metadata": {
        "id": "oCbi5vngwFhI"
      }
    },
    {
      "cell_type": "code",
      "source": [
        "text_splitter=CharacterTextSplitter(chunk_size=1000, chunk_overlap=0)\n",
        "texts=text_splitter.split_documents(documents)"
      ],
      "metadata": {
        "id": "ztA98eRbwH8v"
      },
      "execution_count": 14,
      "outputs": []
    },
    {
      "cell_type": "markdown",
      "source": [
        "**Declaring the embedding**"
      ],
      "metadata": {
        "id": "Y7H5KEOFwa55"
      }
    },
    {
      "cell_type": "code",
      "source": [
        "embeddings=HuggingFaceEmbeddings()"
      ],
      "metadata": {
        "id": "nam24KSvwcwQ"
      },
      "execution_count": 15,
      "outputs": []
    },
    {
      "cell_type": "markdown",
      "source": [
        "**Creating the vectors**"
      ],
      "metadata": {
        "id": "JoLhC0d5wgpF"
      }
    },
    {
      "cell_type": "code",
      "source": [
        "db=Chroma.from_documents(texts,embeddings)"
      ],
      "metadata": {
        "id": "ENF8GI5PwpUr"
      },
      "execution_count": 16,
      "outputs": []
    },
    {
      "cell_type": "markdown",
      "source": [
        "**Creating the retriever**"
      ],
      "metadata": {
        "id": "VPpTvulnwwai"
      }
    },
    {
      "cell_type": "code",
      "source": [
        "retriever=db.as_retriever(search_type=\"similarity\", search_kwargs={\"k\":1})"
      ],
      "metadata": {
        "id": "AVV8TMoQw51B"
      },
      "execution_count": 17,
      "outputs": []
    },
    {
      "cell_type": "markdown",
      "source": [
        "**Creating the chain to answer questions**"
      ],
      "metadata": {
        "id": "bbZqMPWpxEwg"
      }
    },
    {
      "cell_type": "code",
      "source": [
        "qa=RetrievalQA.from_chain_type(\n",
        "    llm=HuggingFaceHub(repo_id=\"google/flan-t5-large\", model_kwargs={\"temperature\":0, \"max_length\":512}), chain_type=\"stuff\",\n",
        "    retriever=retriever,\n",
        "    return_source_documents=True\n",
        ")"
      ],
      "metadata": {
        "id": "azQx-HI6xOkj"
      },
      "execution_count": 21,
      "outputs": []
    },
    {
      "cell_type": "markdown",
      "source": [
        "***Ask here***"
      ],
      "metadata": {
        "id": "AJRoYnGkxmYE"
      }
    },
    {
      "cell_type": "code",
      "source": [
        "query= \"What is Mathematical Modeling?\" # My question"
      ],
      "metadata": {
        "id": "-L78Tl3VxoE5"
      },
      "execution_count": 22,
      "outputs": []
    },
    {
      "cell_type": "markdown",
      "source": [
        "**Code to answer**"
      ],
      "metadata": {
        "id": "kgTU4YyWxr4r"
      }
    },
    {
      "cell_type": "code",
      "source": [
        "result = qa({\"query\":query})\n",
        "print(result['result'])"
      ],
      "metadata": {
        "id": "W2VobAEWxuAw",
        "colab": {
          "base_uri": "https://localhost:8080/"
        },
        "outputId": "256bcf39-904e-4dde-c4a8-54300eeb4a18"
      },
      "execution_count": 23,
      "outputs": [
        {
          "output_type": "stream",
          "name": "stdout",
          "text": [
            "a cognitive activity in which we think about and make models to describe how devices or objects of interest behave\n"
          ]
        }
      ]
    },
    {
      "cell_type": "code",
      "source": [
        "# !touch /content/requirements.txt\n",
        "!pip freeze > /content/requirements.txt"
      ],
      "metadata": {
        "id": "zfyeOnQszkm6"
      },
      "execution_count": null,
      "outputs": []
    },
    {
      "cell_type": "code",
      "source": [
        "result['source_documents']"
      ],
      "metadata": {
        "colab": {
          "base_uri": "https://localhost:8080/"
        },
        "id": "qE3DOl6MsGul",
        "outputId": "d969b1bb-8232-4fd0-bc21-58ae80fdee58"
      },
      "execution_count": 25,
      "outputs": [
        {
          "output_type": "execute_result",
          "data": {
            "text/plain": [
              "[Document(lc_kwargs={'page_content': '1\\nWhat Is Mathematical\\nModeling?\\nWe begin this book with a dictionary deﬁnition of the word model :\\nmodel (n): a miniature representation of something; a pattern of some-\\nthing to be made; an example for imitation or emulation; a description or\\nanalogy used to help visualize something (e.g., an atom) that cannot be dir-ectly observed; a system of postulates, data and inferences presented as amathematical description of an entity or state of affairs\\nThis deﬁnition suggests that modeling is an activity, a cognitive activity in\\nwhich we think about and make models to describe how devices or objects\\nof interest behave.\\nThere are many ways in which devices and behaviors can be described.\\nWe can use words, drawings or sketches, physical models, computer pro-grams, or mathematical formulas. In other words, the modeling activitycan be done in several languages, often simultaneously. Since we are par-ticularly interested in using the language of mathematics to make models,\\n3', 'metadata': {'source': '/content/drive/MyDrive/Docs/Chap1-modeling.pdf', 'page': 0}}, page_content='1\\nWhat Is Mathematical\\nModeling?\\nWe begin this book with a dictionary deﬁnition of the word model :\\nmodel (n): a miniature representation of something; a pattern of some-\\nthing to be made; an example for imitation or emulation; a description or\\nanalogy used to help visualize something (e.g., an atom) that cannot be dir-ectly observed; a system of postulates, data and inferences presented as amathematical description of an entity or state of affairs\\nThis deﬁnition suggests that modeling is an activity, a cognitive activity in\\nwhich we think about and make models to describe how devices or objects\\nof interest behave.\\nThere are many ways in which devices and behaviors can be described.\\nWe can use words, drawings or sketches, physical models, computer pro-grams, or mathematical formulas. In other words, the modeling activitycan be done in several languages, often simultaneously. Since we are par-ticularly interested in using the language of mathematics to make models,\\n3', metadata={'source': '/content/drive/MyDrive/Docs/Chap1-modeling.pdf', 'page': 0})]"
            ]
          },
          "metadata": {},
          "execution_count": 25
        }
      ]
    }
  ],
  "metadata": {
    "accelerator": "TPU",
    "colab": {
      "provenance": [],
      "include_colab_link": true
    },
    "gpuClass": "standard",
    "kernelspec": {
      "display_name": "Python 3",
      "name": "python3"
    },
    "language_info": {
      "name": "python"
    }
  },
  "nbformat": 4,
  "nbformat_minor": 0
}